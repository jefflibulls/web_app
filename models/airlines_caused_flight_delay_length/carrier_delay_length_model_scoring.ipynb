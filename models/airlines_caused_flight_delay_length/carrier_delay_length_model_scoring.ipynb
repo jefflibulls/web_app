{
 "cells": [
  {
   "cell_type": "code",
   "execution_count": 46,
   "id": "57a91e06-5fae-43e2-8d88-d40f7aee0efd",
   "metadata": {},
   "outputs": [],
   "source": [
    "import joblib\n",
    "import pandas as pd\n",
    "import numpy as np"
   ]
  },
  {
   "cell_type": "code",
   "execution_count": 47,
   "id": "d66c53be-fab9-4a9f-9135-39873ed7a2ea",
   "metadata": {},
   "outputs": [],
   "source": [
    "carrier_delay_length_model = joblib.load('carrier_delay_length_model.pkl')"
   ]
  },
  {
   "cell_type": "code",
   "execution_count": 48,
   "id": "5388436b-17a4-4118-b018-6d11538bd18d",
   "metadata": {},
   "outputs": [],
   "source": [
    "def carrier_delay_score(data):\n",
    "    X = pd.DataFrame(data)\n",
    "    y_pred = carrier_delay_length_model.predict(X)\n",
    "    return  np.array([round(pred) for pred in y_pred])"
   ]
  },
  {
   "cell_type": "code",
   "execution_count": 49,
   "id": "a627b55d-677b-4578-8f57-180ff2882e2f",
   "metadata": {},
   "outputs": [],
   "source": [
    "sample_data = pd.DataFrame({\n",
    "    'Reporting_Airline': ['AA'],\n",
    "    'Origin': ['ATL'],\n",
    "    'Dest': ['JFK'],\n",
    "    'DepTimeBlk': ['0700-0759'],\n",
    "    'Month': [6],\n",
    "    'DayofMonth': [15],\n",
    "    'ORIGIN_RWY_CNT': [2],\n",
    "    'prcp_origin': [0.0],\n",
    "    'wspd_origin': [0.0],\n",
    "    'wdir_origin': [20],\n",
    "    'DEST_RWY_CNT': [3],\n",
    "    'prcp_dest': [0.0],\n",
    "    'wspd_dest': [10.0],\n",
    "    'wdir_dest': [18]\n",
    "})"
   ]
  },
  {
   "cell_type": "code",
   "execution_count": 52,
   "id": "764737fe-4e49-45e0-b7f9-07a57db67e42",
   "metadata": {},
   "outputs": [
    {
     "name": "stdout",
     "output_type": "stream",
     "text": [
      "This flight is projected to be delayed by approximately: [42] minutes\n"
     ]
    }
   ],
   "source": [
    "predictions = carrier_delay_score(sample_data)\n",
    "print(\"This flight is projected to be delayed by approximately:\", predictions, \"minutes\")"
   ]
  }
 ],
 "metadata": {
  "kernelspec": {
   "display_name": "Python 3 (ipykernel)",
   "language": "python",
   "name": "python3"
  },
  "language_info": {
   "codemirror_mode": {
    "name": "ipython",
    "version": 3
   },
   "file_extension": ".py",
   "mimetype": "text/x-python",
   "name": "python",
   "nbconvert_exporter": "python",
   "pygments_lexer": "ipython3",
   "version": "3.11.7"
  }
 },
 "nbformat": 4,
 "nbformat_minor": 5
}
