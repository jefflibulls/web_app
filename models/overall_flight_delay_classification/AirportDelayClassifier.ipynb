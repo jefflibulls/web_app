{
 "cells": [
  {
   "cell_type": "code",
   "execution_count": 4,
   "id": "ec6a2591",
   "metadata": {},
   "outputs": [],
   "source": [
    "import joblib\n",
    "import pandas as pd"
   ]
  },
  {
   "cell_type": "code",
   "execution_count": 13,
   "id": "0e22df8f",
   "metadata": {},
   "outputs": [
    {
     "name": "stdout",
     "output_type": "stream",
     "text": [
      "Predicted probabilities On-time, Delay: [[0.47844888 0.52155112]]\n"
     ]
    }
   ],
   "source": [
    "\n",
    "loaded_model = joblib.load('log_reg_model.pkl')\n",
    "loaded_encoder = joblib.load('ordinal_encoder.pkl')\n",
    "categorical_data = joblib.load('categorical_data.pkl')\n",
    "\n",
    "new_sample_data = pd.DataFrame({\n",
    "    'Reporting_Airline': ['9E'],\n",
    "    'Origin': ['JFK'],\n",
    "    'Dest': ['ATL'],\n",
    "    'Month': [6],\n",
    "    'DayofMonth': [12],\n",
    "    'DayOfWeek': [6],\n",
    "})\n",
    "\n",
    "new_sample_data[categorical_data] = loaded_encoder.transform(new_sample_data[categorical_data])\n",
    "\n",
    "y_pred = loaded_model.predict_proba(new_sample_data)\n",
    "print(f'Predicted probabilities On-time, Delay: {y_pred}')"
   ]
  },
  {
   "cell_type": "code",
   "execution_count": 10,
   "id": "4002ecb7",
   "metadata": {},
   "outputs": [
    {
     "name": "stdout",
     "output_type": "stream",
     "text": [
      "Airline: 9E, Predicted probabilities On-time, Delay: [0.47844888 0.52155112]\n",
      "Airline: AA, Predicted probabilities On-time, Delay: [0.48106716 0.51893284]\n",
      "Airline: AS, Predicted probabilities On-time, Delay: [0.48368647 0.51631353]\n",
      "Airline: B6, Predicted probabilities On-time, Delay: [0.48630669 0.51369331]\n",
      "Airline: DL, Predicted probabilities On-time, Delay: [0.48892765 0.51107235]\n",
      "Airline: F9, Predicted probabilities On-time, Delay: [0.49154923 0.50845077]\n",
      "Airline: G4, Predicted probabilities On-time, Delay: [0.49417127 0.50582873]\n",
      "Airline: HA, Predicted probabilities On-time, Delay: [0.49679363 0.50320637]\n",
      "Airline: MQ, Predicted probabilities On-time, Delay: [0.49941617 0.50058383]\n",
      "Airline: NK, Predicted probabilities On-time, Delay: [0.50203873 0.49796127]\n",
      "Airline: WN, Predicted probabilities On-time, Delay: [0.51252645 0.48747355]\n",
      "Airline: YX, Predicted probabilities On-time, Delay: [0.51514701 0.48485299]\n",
      "Airline: OH, Predicted probabilities On-time, Delay: [0.50466119 0.49533881]\n",
      "Airline: OO, Predicted probabilities On-time, Delay: [0.50728339 0.49271661]\n",
      "Airline: UA, Predicted probabilities On-time, Delay: [0.50990519 0.49009481]\n"
     ]
    }
   ],
   "source": [
    "airlines = ['9E', 'AA', 'AS', 'B6', 'DL', 'F9', 'G4', 'HA', 'MQ', 'NK', 'WN', 'YX', 'OH', 'OO', 'UA']\n",
    "data_combinations = {\n",
    "    'Reporting_Airline': [],\n",
    "    'Origin': [],\n",
    "    'Dest': [],\n",
    "    'Month': [],\n",
    "    'DayofMonth': [],\n",
    "    'DayOfWeek': []\n",
    "}\n",
    "origin = 'JFK'\n",
    "dest = 'ATL'\n",
    "month = 6\n",
    "day_of_month = 12\n",
    "day_of_week = 6\n",
    "\n",
    "for airline in airlines:\n",
    "    data_combinations['Reporting_Airline'].append(airline)\n",
    "    data_combinations['Origin'].append(origin)\n",
    "    data_combinations['Dest'].append(dest)\n",
    "    data_combinations['Month'].append(month)\n",
    "    data_combinations['DayofMonth'].append(day_of_month)\n",
    "    data_combinations['DayOfWeek'].append(day_of_week)\n",
    "\n",
    "new_sample_data = pd.DataFrame(data_combinations)\n",
    "\n",
    "new_sample_data[categorical_data] = loaded_encoder.transform(new_sample_data[categorical_data])\n",
    "\n",
    "y_pred = loaded_model.predict_proba(new_sample_data)\n",
    "\n",
    "original_airlines = loaded_encoder.inverse_transform(new_sample_data[categorical_data])[:, 0]\n",
    "\n",
    "\n",
    "for airline, prob in zip(original_airlines, y_pred):\n",
    "    print(f\"Airline: {airline}, Predicted probabilities On-time, Delay: {prob}\")\n"
   ]
  }
 ],
 "metadata": {
  "kernelspec": {
   "display_name": "Python 3 (ipykernel)",
   "language": "python",
   "name": "python3"
  },
  "language_info": {
   "codemirror_mode": {
    "name": "ipython",
    "version": 3
   },
   "file_extension": ".py",
   "mimetype": "text/x-python",
   "name": "python",
   "nbconvert_exporter": "python",
   "pygments_lexer": "ipython3",
   "version": "3.9.15"
  }
 },
 "nbformat": 4,
 "nbformat_minor": 5
}
