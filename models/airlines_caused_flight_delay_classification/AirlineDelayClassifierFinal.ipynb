{
 "cells": [
  {
   "cell_type": "code",
   "execution_count": 22,
   "id": "4ebdd1d3",
   "metadata": {},
   "outputs": [],
   "source": [
    "import joblib\n",
    "import pandas as pd"
   ]
  },
  {
   "cell_type": "code",
   "execution_count": 23,
   "id": "bcb49af3",
   "metadata": {},
   "outputs": [],
   "source": [
    "#Rows as follows: Month\tDayofMonth\tDayOfWeek\tReporting_Airline\tOrigin\tDest\tDepTimeBlk\n",
    "#ORIGIN_RWY_CNT\tDEST_RWY_CNT\tprcp_origin\tsnow_origin\twspd_origin\tprcp_dest\tsnow_dest\twspd_dest\n",
    "\n",
    "xgboost_classification = joblib.load('xgb_airline_class_smote.pkl')\n",
    "\n",
    "test_data = pd.DataFrame({\n",
    "    'Month': [6],\n",
    "    'DayofMonth': [12],\n",
    "    'DayOfWeek': [6],\n",
    "    'Reporting_Airline': ['9E'],\n",
    "    'Origin': ['JFK'],\n",
    "    'Dest': ['ATL'],\n",
    "    'DepTimeBlk': ['0800-0859'],\n",
    "    'ORIGIN_RWY_CNT': [2],\n",
    "    'DEST_RWY_CNT': [2],\n",
    "    'prcp_origin': [0],\n",
    "    'snow_origin': [0],\n",
    "    'wspd_origin': [0],\n",
    "    'prcp_dest': [0],\n",
    "    'snow_dest': [0],\n",
    "    'wspd_dest': [0]\n",
    "    \n",
    "})\n",
    "\n",
    "\n",
    "\n",
    "airline_mapping_df = pd.read_csv('airline_mapping.csv')\n",
    "origin_mapping_df = pd.read_csv('origin_mapping.csv')\n",
    "dest_mapping_df = pd.read_csv('dest_mapping.csv')\n",
    "time_mapping_df = pd.read_csv('time_mapping.csv')\n",
    "\n",
    "\n",
    "airline_mapping = dict(zip(airline_mapping_df['Key'], airline_mapping_df['Value']))\n",
    "origin_mapping = dict(zip(origin_mapping_df['Key'], origin_mapping_df['Value']))\n",
    "dest_mapping = dict(zip(dest_mapping_df['Key'], dest_mapping_df['Value']))\n",
    "time_mapping = dict(zip(time_mapping_df['Key'], time_mapping_df['Value']))\n",
    "\n",
    "test_data['Reporting_Airline'] = test_data['Reporting_Airline'].map(airline_mapping)\n",
    "test_data['Origin'] = test_data['Origin'].map(origin_mapping)\n",
    "test_data['Dest'] = test_data['Dest'].map(dest_mapping)\n",
    "test_data['DepTimeBlk'] = test_data['DepTimeBlk'].map(time_mapping)"
   ]
  },
  {
   "cell_type": "code",
   "execution_count": 24,
   "id": "e3ae2fb6",
   "metadata": {},
   "outputs": [
    {
     "data": {
      "text/plain": [
       "array([[0.767631  , 0.23236899]], dtype=float32)"
      ]
     },
     "execution_count": 24,
     "metadata": {},
     "output_type": "execute_result"
    }
   ],
   "source": [
    "percent_pred = xgboost_classification.predict_proba(test_data)\n",
    "percent_pred"
   ]
  },
  {
   "cell_type": "code",
   "execution_count": null,
   "id": "b165bd0a",
   "metadata": {},
   "outputs": [],
   "source": []
  }
 ],
 "metadata": {
  "kernelspec": {
   "display_name": "Python 3 (ipykernel)",
   "language": "python",
   "name": "python3"
  },
  "language_info": {
   "codemirror_mode": {
    "name": "ipython",
    "version": 3
   },
   "file_extension": ".py",
   "mimetype": "text/x-python",
   "name": "python",
   "nbconvert_exporter": "python",
   "pygments_lexer": "ipython3",
   "version": "3.9.13"
  }
 },
 "nbformat": 4,
 "nbformat_minor": 5
}
